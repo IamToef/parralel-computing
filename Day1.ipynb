{
 "cells": [
  {
   "cell_type": "code",
   "execution_count": 2,
   "metadata": {},
   "outputs": [],
   "source": [
    "import platform\n",
    "import multiprocessing as mp"
   ]
  },
  {
   "cell_type": "markdown",
   "metadata": {},
   "source": [
    "PC's basic information"
   ]
  },
  {
   "cell_type": "code",
   "execution_count": 3,
   "metadata": {},
   "outputs": [
    {
     "name": "stdout",
     "output_type": "stream",
     "text": [
      "Python version: 3.12.3\n",
      "compiler: MSC v.1938 64 bit (AMD64)\n",
      "system: Windows\n",
      "release: 10\n",
      "machine: AMD64\n",
      "processor: Intel64 Family 6 Model 140 Stepping 1, GenuineIntel\n",
      "CPU count: 8\n",
      "interpreter: 64bit\n",
      "\n",
      "\n",
      "\n"
     ]
    }
   ],
   "source": [
    "def print_sysinfo():\n",
    "    print('Python version:', platform.python_version())\n",
    "    print('compiler:', platform.python_compiler())\n",
    "    print('system:', platform.system())\n",
    "    print('release:', platform.release())\n",
    "    print('machine:', platform.machine())\n",
    "    print('processor:', platform.processor())\n",
    "    print('CPU count:', mp.cpu_count())\n",
    "    print('interpreter:', platform.architecture()[0])\n",
    "    print('\\n\\n')\n",
    "print_sysinfo()"
   ]
  },
  {
   "cell_type": "markdown",
   "metadata": {},
   "source": [
    "Checking Hostname and IP addresses"
   ]
  },
  {
   "cell_type": "code",
   "execution_count": 4,
   "metadata": {},
   "outputs": [
    {
     "name": "stdout",
     "output_type": "stream",
     "text": [
      "Hostname is Phong and IP Address is 10.86.6.147.\n"
     ]
    }
   ],
   "source": [
    "import socket\n",
    "hn = socket.gethostname()\n",
    "ip = socket.gethostbyname(hn)\n",
    "print(f\"Hostname is {hn} and IP Address is {ip}.\")"
   ]
  },
  {
   "cell_type": "code",
   "execution_count": 5,
   "metadata": {},
   "outputs": [
    {
     "name": "stdout",
     "output_type": "stream",
     "text": [
      "elapsed time is: 0.8079967498779297 seconds\n"
     ]
    }
   ],
   "source": [
    "import time\n",
    "start = time.time()\n",
    "x = 0\n",
    "while x < 10000000:\n",
    "    x += 1\n",
    "end = time.time()\n",
    "\n",
    "print(\"elapsed time is:\", end - start, \"seconds\")"
   ]
  },
  {
   "cell_type": "code",
   "execution_count": 6,
   "metadata": {},
   "outputs": [
    {
     "name": "stdout",
     "output_type": "stream",
     "text": [
      "Length of a = 0. Thread ID: 2832\n",
      "A = []\n"
     ]
    }
   ],
   "source": [
    "import random\n",
    "import threading\n",
    "A = []\n",
    "print(\"Length of a = %d. Thread ID: %d\" % (len(A), threading.get_ident()))\n",
    "print(\"A =\", A)\n",
    "\n",
    "def myFunc(n):\n",
    "    s = random.randint(1, 3)\n",
    "    time.sleep(s)\n",
    "    m = threading.get_ident()\n",
    "    A.append(m)\n",
    "    print(\"n = %2d. Time to sleep = %d. Thread ID: %d. Main Th.ID: %d\" % (n, s, m, threading.main_thread().ident))"
   ]
  },
  {
   "cell_type": "code",
   "execution_count": 7,
   "metadata": {},
   "outputs": [],
   "source": [
    "th = []\n",
    "for i in range(10):\n",
    "    th.append(threading.Thread(target=myFunc, args=(i,)))\n",
    "    th[i].start()"
   ]
  },
  {
   "cell_type": "code",
   "execution_count": 8,
   "metadata": {},
   "outputs": [
    {
     "name": "stdout",
     "output_type": "stream",
     "text": [
      "n =  0. Time to sleep = 1. Thread ID: 15384. Main Th.ID: 2832\n",
      "n =  3. Time to sleep = 1. Thread ID: 12836. Main Th.ID: 2832\n",
      "n =  1. Time to sleep = 1. Thread ID: 30288. Main Th.ID: 2832\n",
      "n =  8. Time to sleep = 1. Thread ID: 8872. Main Th.ID: 2832\n",
      "n =  9. Time to sleep = 1. Thread ID: 20248. Main Th.ID: 2832\n",
      "n =  2. Time to sleep = 2. Thread ID: 8852. Main Th.ID: 2832\n",
      "n =  5. Time to sleep = 2. Thread ID: 21736. Main Th.ID: 2832\n",
      "n =  4. Time to sleep = 2. Thread ID: 11992. Main Th.ID: 2832\n",
      "n =  6. Time to sleep = 3. Thread ID: 18664. Main Th.ID: 2832\n",
      "n =  7. Time to sleep = 3. Thread ID: 3648. Main Th.ID: 2832\n"
     ]
    },
    {
     "name": "stdout",
     "output_type": "stream",
     "text": [
      "Length of A = 10, Thread ID: 2832\n",
      "A = [15384, 12836, 30288, 8872, 20248, 8852, 21736, 11992, 18664, 3648]\n"
     ]
    }
   ],
   "source": [
    "for i in th:\n",
    "    i.join()\n",
    "print (\"Length of A = %d, Thread ID: %s\" % (len(A),threading.get_ident()))\n",
    "print(\"A =\", A)"
   ]
  }
 ],
 "metadata": {
  "kernelspec": {
   "display_name": "base",
   "language": "python",
   "name": "python3"
  },
  "language_info": {
   "codemirror_mode": {
    "name": "ipython",
    "version": 3
   },
   "file_extension": ".py",
   "mimetype": "text/x-python",
   "name": "python",
   "nbconvert_exporter": "python",
   "pygments_lexer": "ipython3",
   "version": "3.12.3"
  }
 },
 "nbformat": 4,
 "nbformat_minor": 2
}
